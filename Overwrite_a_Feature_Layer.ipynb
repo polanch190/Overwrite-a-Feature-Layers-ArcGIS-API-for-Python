{
 "cells": [
  {
   "cell_type": "markdown",
   "id": "698b6004",
   "metadata": {},
   "source": [
    "# How Two Overwrite Feature Layers on AcrGIS Online Using ArcGIS API for Python\n",
    "\n",
    "#### This script was used to update a park Police Feature layer every hour. Everytime this feature layer is updated, this [Live - Incidents Dashboard](https://www.arcgis.com/apps/dashboards/507bf64453764a608f2323475bb52f2f) is also updated to help park police prioritize incidents throughout the Park. "
   ]
  },
  {
   "cell_type": "markdown",
   "id": "485c0153",
   "metadata": {},
   "source": [
    "#### In this tutorial we will overwrite a feature layer that was created in an ArcGIS Pro project. In ArcGIS Pro, the layer was first created using data from a connected MSSQL database table. The layer was then shared through ArcGIS Pro to ArcGIS Online (AGO). The MSSQL table regularly updates and we want to reflect those updates on the shared feature layer. Here we will set up a script that overwrites the feature layer with new sql table updates. After your finished making the script, use windows task scheduler to regulaly run this script and update your AGO feature layer. Click and scroll down to [\"Create and Schedule a Task\"](https://learn.arcgis.com/en/projects/schedule-automated-near-real-time-data-updates/) for more information and Windows task scheduler."
   ]
  },
  {
   "cell_type": "markdown",
   "id": "e9c667c5",
   "metadata": {},
   "source": [
    "First, lets read in nessesary libraries\n",
    "\n",
    "Note: You may also need to download the [Overwrite Hosted Feature Services, v2.1.1](https://www.arcgis.com/home/item.html?id=d45f80eb53c748e7aa3d938a46b48836) and install the [Manage Notebook Code Dependencies (MNCD) tool Installer ](https://www.arcgis.com/home/item.html?id=46c7512604654601ab4338f9299c5414) and set up your environment."
   ]
  },
  {
   "cell_type": "code",
   "execution_count": 1,
   "id": "8d7195dc",
   "metadata": {},
   "outputs": [],
   "source": [
    "import arcpy\n",
    "import os, sys \n",
    "from arcgis.gis import GIS"
   ]
  },
  {
   "cell_type": "markdown",
   "id": "9525ff1d",
   "metadata": {},
   "source": [
    "Now, lets set up some variables for the project path, feature service/SD name in arcgis.com,\n",
    "the user/password of the owner account, and the sharing options for the item you will be overwriting on AGO.\n",
    "If you have your login credentials locally stored as a saved profile, you don't need to write your password in this script and can delete it.\n",
    "To learn how to locally store your \n",
    "AGO credentials visit [this tutorial](https://learn.arcgis.com/en/projects/schedule-automated-near-real-time-data-updates/) and scroll down to the section \"Store ArcgGIS Online Credentials Locally\". "
   ]
  },
  {
   "cell_type": "code",
   "execution_count": 2,
   "id": "38c7c462",
   "metadata": {},
   "outputs": [],
   "source": [
    "prjPath = r\"C:\\Users\\YourName\\Desktop\\ArcProjectFolder\\YourProjectName.aprx\" #fill in path to your project path. \n",
    "\n",
    "\n",
    "sd_fs_name = \"The name of the feature layer to be updated\"\n",
    "# Can also reference your organization portal\n",
    "portal = 'https://www.arcgis.com'\n",
    "\n",
    "\n",
    "#login credentials\n",
    "user = \"Your_User_Name\"\n",
    "\n",
    "#Comment these two lines out if you have a locally stored profile and will be using it.\n",
    "password = \"Your Password\" \n",
    "gis = GIS(portal, user, password)\n",
    "\n",
    "#Comment this out if you don't have a locally stored profile and \n",
    "# will be keeping your user name and password in this script\n",
    "gis = GIS( profile=\"learn_user\")\n",
    "\n",
    "\n",
    "# Set sharing options\n",
    "shrOrg = False\n",
    "shrEveryone = True\n",
    "shrGroups = \"\"\n",
    "\n",
    "### End setting variables"
   ]
  },
  {
   "cell_type": "markdown",
   "id": "92ccbf1c",
   "metadata": {},
   "source": [
    "When a feature layer is first shared to AGO via ArcGIS Pro, you might notice that a Service Definition (SD) for that feature layer is created in your AGO content.\n",
    "To overwrite the current feature layer with updated content, we will have to define local paths to create temporary contentent, create the new SDDraft, and stage to SD."
   ]
  },
  {
   "cell_type": "code",
   "execution_count": 3,
   "id": "bc1e4a99",
   "metadata": {},
   "outputs": [
    {
     "name": "stdout",
     "output_type": "stream",
     "text": [
      "Creating SD file\n",
      "Connecting to https://hrpt.maps.arcgis.com/\n"
     ]
    }
   ],
   "source": [
    "# Local paths to create temporary content\n",
    "relPath = sys.path[0]\n",
    "sddraft = os.path.join(relPath, \"WebUpdate.sddraft\")\n",
    "sd = os.path.join(relPath, \"WebUpdate.sd\") \n",
    "\n",
    "\n",
    "# Create a new SDDraft and stage to SD\n",
    "print(\"Creating SD file\")\n",
    "arcpy.env.overwriteOutput = True\n",
    "prj = arcpy.mp.ArcGISProject(prjPath)\n",
    "mp = prj.listMaps()[0]\n",
    "arcpy.mp.CreateWebLayerSDDraft(mp, sddraft, sd_fs_name, \"MY_HOSTED_SERVICES\", \"FEATURE_ACCESS\",\"\", True, True)\n",
    "arcpy.StageService_server(sddraft, sd)\n",
    "\n",
    "# Connect to your AGO portal\n",
    "print(\"Connecting to {}\".format(portal))"
   ]
  },
  {
   "cell_type": "markdown",
   "id": "9dd23dd0",
   "metadata": {},
   "source": [
    "Now that you have created the temporary content and connected to your portal, search for the SD item on AGO, update the item, and publish the SD."
   ]
  },
  {
   "cell_type": "code",
   "execution_count": 4,
   "id": "49c5f1bc",
   "metadata": {},
   "outputs": [
    {
     "name": "stdout",
     "output_type": "stream",
     "text": [
      "Search for original SD on portal…\n",
      "Found SD: Live_PEP_Features, ID: bd7e45bcc39d4333b6a23608a6654a97 n Uploading and overwriting…\n",
      "Overwriting existing feature service…\n",
      "Setting sharing options…\n",
      "Finished updating: Live_PEP_Features – ID: c39af8d4288740d9b67627f2143d28cb\n"
     ]
    }
   ],
   "source": [
    "# Find the SD, update it, publish /w overwrite and set sharing and metadata\n",
    "print(\"Search for original SD on portal…\")\n",
    "sdItem = gis.content.search(\"{} AND owner:{}\".format(sd_fs_name, user), item_type=\"Service Definition\")[0]\n",
    "print(\"Found SD: {}, ID: {} n Uploading and overwriting…\".format(sdItem.title, sdItem.id))\n",
    "sdItem.update(data=sd)\n",
    "print(\"Overwriting existing feature service…\")\n",
    "fs = sdItem.publish(overwrite=True)\n",
    "\n",
    "\n",
    "if shrOrg or shrEveryone or shrGroups:\n",
    "    print(\"Setting sharing options…\")\n",
    "    fs.share(org=shrOrg, everyone=shrEveryone, groups=shrGroups)\n",
    "\n",
    "print(\"Finished updating: {} – ID: {}\".format(fs.title, fs.id))\n"
   ]
  }
 ],
 "metadata": {
  "kernelspec": {
   "display_name": "Python 3",
   "language": "python",
   "name": "python3"
  },
  "language_info": {
   "codemirror_mode": {
    "name": "ipython",
    "version": 3
   },
   "file_extension": ".py",
   "mimetype": "text/x-python",
   "name": "python",
   "nbconvert_exporter": "python",
   "pygments_lexer": "ipython3",
   "version": "3.7.11"
  }
 },
 "nbformat": 4,
 "nbformat_minor": 5
}
